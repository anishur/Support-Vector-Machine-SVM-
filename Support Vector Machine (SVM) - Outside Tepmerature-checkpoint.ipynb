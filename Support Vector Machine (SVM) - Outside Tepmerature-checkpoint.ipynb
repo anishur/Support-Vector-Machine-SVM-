{
 "cells": [
  {
   "cell_type": "code",
   "execution_count": 205,
   "metadata": {},
   "outputs": [],
   "source": [
    "from sklearn.svm import SVR\n",
    "import numpy as np\n",
    "import pandas as pd\n",
    "import matplotlib.pyplot as plt\n",
    "%matplotlib inline\n",
    "import seaborn as sns\n",
    "sns.set_theme(style=\"darkgrid\")\n",
    "import warnings\n",
    "warnings.filterwarnings('ignore')"
   ]
  },
  {
   "cell_type": "code",
   "execution_count": 206,
   "metadata": {},
   "outputs": [
    {
     "data": {
      "text/html": [
       "<div>\n",
       "<style scoped>\n",
       "    .dataframe tbody tr th:only-of-type {\n",
       "        vertical-align: middle;\n",
       "    }\n",
       "\n",
       "    .dataframe tbody tr th {\n",
       "        vertical-align: top;\n",
       "    }\n",
       "\n",
       "    .dataframe thead th {\n",
       "        text-align: right;\n",
       "    }\n",
       "</style>\n",
       "<table border=\"1\" class=\"dataframe\">\n",
       "  <thead>\n",
       "    <tr style=\"text-align: right;\">\n",
       "      <th></th>\n",
       "      <th>Timestamp</th>\n",
       "      <th>temp_mean</th>\n",
       "    </tr>\n",
       "  </thead>\n",
       "  <tbody>\n",
       "    <tr>\n",
       "      <th>0</th>\n",
       "      <td>02/06/2021</td>\n",
       "      <td>14.19</td>\n",
       "    </tr>\n",
       "    <tr>\n",
       "      <th>1</th>\n",
       "      <td>03/06/2021</td>\n",
       "      <td>14.80</td>\n",
       "    </tr>\n",
       "    <tr>\n",
       "      <th>2</th>\n",
       "      <td>04/06/2021</td>\n",
       "      <td>14.49</td>\n",
       "    </tr>\n",
       "    <tr>\n",
       "      <th>3</th>\n",
       "      <td>05/06/2021</td>\n",
       "      <td>18.13</td>\n",
       "    </tr>\n",
       "    <tr>\n",
       "      <th>4</th>\n",
       "      <td>06/06/2021</td>\n",
       "      <td>20.47</td>\n",
       "    </tr>\n",
       "    <tr>\n",
       "      <th>5</th>\n",
       "      <td>07/06/2021</td>\n",
       "      <td>21.27</td>\n",
       "    </tr>\n",
       "    <tr>\n",
       "      <th>6</th>\n",
       "      <td>08/06/2021</td>\n",
       "      <td>21.60</td>\n",
       "    </tr>\n",
       "    <tr>\n",
       "      <th>7</th>\n",
       "      <td>09/06/2021</td>\n",
       "      <td>21.61</td>\n",
       "    </tr>\n",
       "    <tr>\n",
       "      <th>8</th>\n",
       "      <td>10/06/2021</td>\n",
       "      <td>23.15</td>\n",
       "    </tr>\n",
       "    <tr>\n",
       "      <th>9</th>\n",
       "      <td>11/06/2021</td>\n",
       "      <td>23.68</td>\n",
       "    </tr>\n",
       "    <tr>\n",
       "      <th>10</th>\n",
       "      <td>12/06/2021</td>\n",
       "      <td>20.38</td>\n",
       "    </tr>\n",
       "    <tr>\n",
       "      <th>11</th>\n",
       "      <td>13/06/2021</td>\n",
       "      <td>19.49</td>\n",
       "    </tr>\n",
       "    <tr>\n",
       "      <th>12</th>\n",
       "      <td>14/06/2021</td>\n",
       "      <td>21.55</td>\n",
       "    </tr>\n",
       "    <tr>\n",
       "      <th>13</th>\n",
       "      <td>15/06/2021</td>\n",
       "      <td>23.00</td>\n",
       "    </tr>\n",
       "    <tr>\n",
       "      <th>14</th>\n",
       "      <td>16/06/2021</td>\n",
       "      <td>19.62</td>\n",
       "    </tr>\n",
       "    <tr>\n",
       "      <th>15</th>\n",
       "      <td>17/06/2021</td>\n",
       "      <td>15.53</td>\n",
       "    </tr>\n",
       "    <tr>\n",
       "      <th>16</th>\n",
       "      <td>18/06/2021</td>\n",
       "      <td>14.17</td>\n",
       "    </tr>\n",
       "    <tr>\n",
       "      <th>17</th>\n",
       "      <td>19/06/2021</td>\n",
       "      <td>13.59</td>\n",
       "    </tr>\n",
       "    <tr>\n",
       "      <th>18</th>\n",
       "      <td>20/06/2021</td>\n",
       "      <td>11.41</td>\n",
       "    </tr>\n",
       "    <tr>\n",
       "      <th>19</th>\n",
       "      <td>21/06/2021</td>\n",
       "      <td>15.99</td>\n",
       "    </tr>\n",
       "    <tr>\n",
       "      <th>20</th>\n",
       "      <td>22/06/2021</td>\n",
       "      <td>9.98</td>\n",
       "    </tr>\n",
       "    <tr>\n",
       "      <th>21</th>\n",
       "      <td>23/06/2021</td>\n",
       "      <td>21.12</td>\n",
       "    </tr>\n",
       "  </tbody>\n",
       "</table>\n",
       "</div>"
      ],
      "text/plain": [
       "     Timestamp  temp_mean\n",
       "0   02/06/2021      14.19\n",
       "1   03/06/2021      14.80\n",
       "2   04/06/2021      14.49\n",
       "3   05/06/2021      18.13\n",
       "4   06/06/2021      20.47\n",
       "5   07/06/2021      21.27\n",
       "6   08/06/2021      21.60\n",
       "7   09/06/2021      21.61\n",
       "8   10/06/2021      23.15\n",
       "9   11/06/2021      23.68\n",
       "10  12/06/2021      20.38\n",
       "11  13/06/2021      19.49\n",
       "12  14/06/2021      21.55\n",
       "13  15/06/2021      23.00\n",
       "14  16/06/2021      19.62\n",
       "15  17/06/2021      15.53\n",
       "16  18/06/2021      14.17\n",
       "17  19/06/2021      13.59\n",
       "18  20/06/2021      11.41\n",
       "19  21/06/2021      15.99\n",
       "20  22/06/2021       9.98\n",
       "21  23/06/2021      21.12"
      ]
     },
     "execution_count": 206,
     "metadata": {},
     "output_type": "execute_result"
    }
   ],
   "source": [
    "df = pd.read_csv('outside_temp.csv')\n",
    "df.head(22)"
   ]
  },
  {
   "cell_type": "code",
   "execution_count": 207,
   "metadata": {},
   "outputs": [
    {
     "name": "stdout",
     "output_type": "stream",
     "text": [
      "[[14.19]\n",
      " [14.8 ]\n",
      " [14.49]\n",
      " [18.13]\n",
      " [20.47]]\n"
     ]
    },
    {
     "data": {
      "text/plain": [
       "(22, 1)"
      ]
     },
     "execution_count": 207,
     "metadata": {},
     "output_type": "execute_result"
    }
   ],
   "source": [
    "FullData =df[['temp_mean']].values\n",
    "print(FullData[0:5])\n",
    "FullData.shape"
   ]
  },
  {
   "cell_type": "code",
   "execution_count": 208,
   "metadata": {},
   "outputs": [
    {
     "data": {
      "text/html": [
       "<div>\n",
       "<style scoped>\n",
       "    .dataframe tbody tr th:only-of-type {\n",
       "        vertical-align: middle;\n",
       "    }\n",
       "\n",
       "    .dataframe tbody tr th {\n",
       "        vertical-align: top;\n",
       "    }\n",
       "\n",
       "    .dataframe thead th {\n",
       "        text-align: right;\n",
       "    }\n",
       "</style>\n",
       "<table border=\"1\" class=\"dataframe\">\n",
       "  <thead>\n",
       "    <tr style=\"text-align: right;\">\n",
       "      <th></th>\n",
       "      <th>Timestamp</th>\n",
       "      <th>temp_mean</th>\n",
       "    </tr>\n",
       "  </thead>\n",
       "  <tbody>\n",
       "    <tr>\n",
       "      <th>21</th>\n",
       "      <td>23/06/2021</td>\n",
       "      <td>21.12</td>\n",
       "    </tr>\n",
       "  </tbody>\n",
       "</table>\n",
       "</div>"
      ],
      "text/plain": [
       "     Timestamp  temp_mean\n",
       "21  23/06/2021      21.12"
      ]
     },
     "execution_count": 208,
     "metadata": {},
     "output_type": "execute_result"
    }
   ],
   "source": [
    "actual_Temp = df.tail(1)\n",
    "actual_Temp"
   ]
  },
  {
   "cell_type": "code",
   "execution_count": 209,
   "metadata": {},
   "outputs": [
    {
     "data": {
      "text/html": [
       "<div>\n",
       "<style scoped>\n",
       "    .dataframe tbody tr th:only-of-type {\n",
       "        vertical-align: middle;\n",
       "    }\n",
       "\n",
       "    .dataframe tbody tr th {\n",
       "        vertical-align: top;\n",
       "    }\n",
       "\n",
       "    .dataframe thead th {\n",
       "        text-align: right;\n",
       "    }\n",
       "</style>\n",
       "<table border=\"1\" class=\"dataframe\">\n",
       "  <thead>\n",
       "    <tr style=\"text-align: right;\">\n",
       "      <th></th>\n",
       "      <th>Timestamp</th>\n",
       "      <th>temp_mean</th>\n",
       "    </tr>\n",
       "  </thead>\n",
       "  <tbody>\n",
       "    <tr>\n",
       "      <th>0</th>\n",
       "      <td>02/06/2021</td>\n",
       "      <td>14.19</td>\n",
       "    </tr>\n",
       "    <tr>\n",
       "      <th>1</th>\n",
       "      <td>03/06/2021</td>\n",
       "      <td>14.80</td>\n",
       "    </tr>\n",
       "    <tr>\n",
       "      <th>2</th>\n",
       "      <td>04/06/2021</td>\n",
       "      <td>14.49</td>\n",
       "    </tr>\n",
       "    <tr>\n",
       "      <th>3</th>\n",
       "      <td>05/06/2021</td>\n",
       "      <td>18.13</td>\n",
       "    </tr>\n",
       "    <tr>\n",
       "      <th>4</th>\n",
       "      <td>06/06/2021</td>\n",
       "      <td>20.47</td>\n",
       "    </tr>\n",
       "    <tr>\n",
       "      <th>5</th>\n",
       "      <td>07/06/2021</td>\n",
       "      <td>21.27</td>\n",
       "    </tr>\n",
       "    <tr>\n",
       "      <th>6</th>\n",
       "      <td>08/06/2021</td>\n",
       "      <td>21.60</td>\n",
       "    </tr>\n",
       "    <tr>\n",
       "      <th>7</th>\n",
       "      <td>09/06/2021</td>\n",
       "      <td>21.61</td>\n",
       "    </tr>\n",
       "    <tr>\n",
       "      <th>8</th>\n",
       "      <td>10/06/2021</td>\n",
       "      <td>23.15</td>\n",
       "    </tr>\n",
       "    <tr>\n",
       "      <th>9</th>\n",
       "      <td>11/06/2021</td>\n",
       "      <td>23.68</td>\n",
       "    </tr>\n",
       "    <tr>\n",
       "      <th>10</th>\n",
       "      <td>12/06/2021</td>\n",
       "      <td>20.38</td>\n",
       "    </tr>\n",
       "    <tr>\n",
       "      <th>11</th>\n",
       "      <td>13/06/2021</td>\n",
       "      <td>19.49</td>\n",
       "    </tr>\n",
       "    <tr>\n",
       "      <th>12</th>\n",
       "      <td>14/06/2021</td>\n",
       "      <td>21.55</td>\n",
       "    </tr>\n",
       "    <tr>\n",
       "      <th>13</th>\n",
       "      <td>15/06/2021</td>\n",
       "      <td>23.00</td>\n",
       "    </tr>\n",
       "    <tr>\n",
       "      <th>14</th>\n",
       "      <td>16/06/2021</td>\n",
       "      <td>19.62</td>\n",
       "    </tr>\n",
       "    <tr>\n",
       "      <th>15</th>\n",
       "      <td>17/06/2021</td>\n",
       "      <td>15.53</td>\n",
       "    </tr>\n",
       "    <tr>\n",
       "      <th>16</th>\n",
       "      <td>18/06/2021</td>\n",
       "      <td>14.17</td>\n",
       "    </tr>\n",
       "    <tr>\n",
       "      <th>17</th>\n",
       "      <td>19/06/2021</td>\n",
       "      <td>13.59</td>\n",
       "    </tr>\n",
       "    <tr>\n",
       "      <th>18</th>\n",
       "      <td>20/06/2021</td>\n",
       "      <td>11.41</td>\n",
       "    </tr>\n",
       "    <tr>\n",
       "      <th>19</th>\n",
       "      <td>21/06/2021</td>\n",
       "      <td>15.99</td>\n",
       "    </tr>\n",
       "    <tr>\n",
       "      <th>20</th>\n",
       "      <td>22/06/2021</td>\n",
       "      <td>9.98</td>\n",
       "    </tr>\n",
       "  </tbody>\n",
       "</table>\n",
       "</div>"
      ],
      "text/plain": [
       "     Timestamp  temp_mean\n",
       "0   02/06/2021      14.19\n",
       "1   03/06/2021      14.80\n",
       "2   04/06/2021      14.49\n",
       "3   05/06/2021      18.13\n",
       "4   06/06/2021      20.47\n",
       "5   07/06/2021      21.27\n",
       "6   08/06/2021      21.60\n",
       "7   09/06/2021      21.61\n",
       "8   10/06/2021      23.15\n",
       "9   11/06/2021      23.68\n",
       "10  12/06/2021      20.38\n",
       "11  13/06/2021      19.49\n",
       "12  14/06/2021      21.55\n",
       "13  15/06/2021      23.00\n",
       "14  16/06/2021      19.62\n",
       "15  17/06/2021      15.53\n",
       "16  18/06/2021      14.17\n",
       "17  19/06/2021      13.59\n",
       "18  20/06/2021      11.41\n",
       "19  21/06/2021      15.99\n",
       "20  22/06/2021       9.98"
      ]
     },
     "execution_count": 209,
     "metadata": {},
     "output_type": "execute_result"
    }
   ],
   "source": [
    "# Preparing the data for training the SVR (support vector machine - regression) \n",
    "# Get all the data except for the last row\n",
    "\n",
    "df = df.head(len(df)-1)\n",
    "df"
   ]
  },
  {
   "cell_type": "code",
   "execution_count": 210,
   "metadata": {},
   "outputs": [
    {
     "name": "stdout",
     "output_type": "stream",
     "text": [
      "[]\n",
      "[]\n"
     ]
    }
   ],
   "source": [
    "# Create empty lists to store the independent and dependent data \n",
    "\n",
    "days = list()\n",
    "\n",
    "temp_values = list()\n",
    "\n",
    "print(days)\n",
    "print(temp_values)"
   ]
  },
  {
   "cell_type": "code",
   "execution_count": 211,
   "metadata": {},
   "outputs": [],
   "source": [
    "#Get the dates and adjusted close price\n",
    "\n",
    "df_days = df.loc[:,'Timestamp']\n",
    "#print(df_days)\n",
    "df_temp_values = df.loc[:,'temp_mean']\n",
    "#print(df_temp_values)"
   ]
  },
  {
   "cell_type": "code",
   "execution_count": 212,
   "metadata": {},
   "outputs": [],
   "source": [
    "# Create the independent data set\n",
    "\n",
    "for day in df_days:\n",
    "    days.append([int(day.split('/')[0])])\n",
    "\n"
   ]
  },
  {
   "cell_type": "code",
   "execution_count": 213,
   "metadata": {},
   "outputs": [],
   "source": [
    "# Create the denpendent data set\n",
    "\n",
    "for temp in df_temp_values:\n",
    "    temp_values.append(float(temp))\n",
    "\n"
   ]
  },
  {
   "cell_type": "code",
   "execution_count": 214,
   "metadata": {},
   "outputs": [
    {
     "name": "stdout",
     "output_type": "stream",
     "text": [
      "[[2], [3], [4], [5], [6], [7], [8], [9], [10], [11], [12], [13], [14], [15], [16], [17], [18], [19], [20], [21], [22]]\n",
      "[14.19, 14.8, 14.49, 18.13, 20.47, 21.27, 21.6, 21.61, 23.15, 23.68, 20.38, 19.49, 21.55, 23.0, 19.62, 15.53, 14.17, 13.59, 11.41, 15.99, 9.98]\n"
     ]
    },
    {
     "data": {
      "text/plain": [
       "<matplotlib.collections.PathCollection at 0x1e22c95e9b0>"
      ]
     },
     "execution_count": 214,
     "metadata": {},
     "output_type": "execute_result"
    },
    {
     "data": {
      "image/png": "[encoded data removed]",
      "text/plain": [
       "<Figure size 1152x576 with 1 Axes>"
      ]
     },
     "metadata": {},
     "output_type": "display_data"
    }
   ],
   "source": [
    "print(days)\n",
    "print(temp_values)\n",
    "type(days)\n",
    "#plt.scatter(days,temp_values)\n",
    "\n",
    "plt.figure(figsize=(16,8))\n",
    "plt.ylim(0,26)\n",
    "plt.xlim(0,24)\n",
    "plt.plot(days,temp_values, color='black', label ='Outdoor Temp Data Point Line ')\n",
    "plt.scatter(days,temp_values, color = 'red', label = 'Outdoor Temp Data Point')"
   ]
  },
  {
   "cell_type": "code",
   "execution_count": 235,
   "metadata": {},
   "outputs": [
    {
     "data": {
      "text/plain": [
       "SVR(C=1000, gamma=0.1)"
      ]
     },
     "execution_count": 235,
     "metadata": {},
     "output_type": "execute_result"
    }
   ],
   "source": [
    "# Create the 3 Support Vector Regression Models\n",
    "\n",
    "# Create and train a SVR model using a linear kernel\n",
    "\n",
    "lin_svr = SVR(kernel='linear', C=1000)\n",
    "lin_svr.fit(days,temp_values)\n",
    "\n",
    "# Create and train a SVR model using a polynomial kernel\n",
    "\n",
    "poly_svr = SVR(kernel='poly', C=1000, degree = 2)\n",
    "poly_svr.fit(days,temp_values)\n",
    "\n",
    "# Create and train a SVR model using a rbf kernel\n",
    "\n",
    "rbf_svr = SVR(kernel='rbf', C=1000, gamma=0.1)\n",
    "rbf_svr.fit(days,temp_values)"
   ]
  },
  {
   "cell_type": "code",
   "execution_count": 236,
   "metadata": {},
   "outputs": [
    {
     "data": {
      "image/png": "[encoded data removed]",
      "text/plain": [
       "<Figure size 1152x576 with 1 Axes>"
      ]
     },
     "metadata": {},
     "output_type": "display_data"
    }
   ],
   "source": [
    "# plot the models on a graph to see which has the best fit to the original data\n",
    "\n",
    "\n",
    "plt.figure(figsize=(16,8))\n",
    "plt.plot(days,temp_values, color='black', label ='Outdoor Temp Data Point Line ')\n",
    "plt.scatter(days,temp_values, color = 'red', label = 'Outdoor Temp Data Point')\n",
    "plt.plot(days, rbf_svr.predict(days), color='green', label='RBF Model')\n",
    "plt.plot(days, poly_svr.predict(days), color='orange', label='Polynomial Model')\n",
    "plt.plot(days, lin_svr.predict(days), color='blue', label='Linear Model')\n",
    "\n",
    "plt.title('Outside Temp value Prediction')\n",
    "plt.xlabel('Days')\n",
    "plt.ylabel('Temp ºC')\n",
    "plt.ylim(0,26)\n",
    "plt.xlim(0,24)\n",
    "plt.legend()\n",
    "\n",
    "plt.show()\n",
    "\n"
   ]
  },
  {
   "cell_type": "code",
   "execution_count": 237,
   "metadata": {},
   "outputs": [
    {
     "name": "stdout",
     "output_type": "stream",
     "text": [
      "The RBF SVR predicted:  [10.0799478]\n",
      "The Linear SVR predicted:  [15.51285714]\n",
      "The Polynomial SVR predicted:  [10.96956964]\n"
     ]
    }
   ],
   "source": [
    "# Show the prediction temperature values for the given day\n",
    "\n",
    "day = [[22]]\n",
    "predicted_Value = rbf_svr.predict(day)\n",
    "predicted_Value1 = lin_svr.predict(day)\n",
    "predicted_Value2 = poly_svr.predict(day)\n",
    "print('The RBF SVR predicted: ', rbf_svr.predict(day))\n",
    "print('The Linear SVR predicted: ', lin_svr.predict(day))\n",
    "print('The Polynomial SVR predicted: ', poly_svr.predict(day))"
   ]
  },
  {
   "cell_type": "code",
   "execution_count": 238,
   "metadata": {},
   "outputs": [
    {
     "name": "stdout",
     "output_type": "stream",
     "text": [
      "The actual Temp:  [21.12]\n"
     ]
    }
   ],
   "source": [
    "# Print the actual price of the temp on day 22\n",
    "orig = actual_Temp['temp_mean'].values\n",
    "print('The actual Temp: ', actual_Temp['temp_mean'].values)"
   ]
  },
  {
   "cell_type": "code",
   "execution_count": 239,
   "metadata": {},
   "outputs": [
    {
     "name": "stdout",
     "output_type": "stream",
     "text": [
      "Accuracy of RBF SVR Model :  47.72702558564234\n"
     ]
    }
   ],
   "source": [
    "print('Accuracy of RBF SVR Model : ', 100 - (100 * (abs(orig-predicted_Value)/orig)).mean())"
   ]
  },
  {
   "cell_type": "code",
   "execution_count": 240,
   "metadata": {},
   "outputs": [
    {
     "name": "stdout",
     "output_type": "stream",
     "text": [
      "Accuracy of Linear SVR Model :  73.45102813920302\n"
     ]
    }
   ],
   "source": [
    "print('Accuracy of Linear SVR Model : ', 100 - (100 * (abs(orig-predicted_Value1)/orig)).mean())"
   ]
  },
  {
   "cell_type": "code",
   "execution_count": 241,
   "metadata": {},
   "outputs": [
    {
     "name": "stdout",
     "output_type": "stream",
     "text": [
      "Accuracy Polynomial SVR Model :  51.939250200282146\n"
     ]
    }
   ],
   "source": [
    "print('Accuracy Polynomial SVR Model : ', 100 - (100 * (abs(orig-predicted_Value2)/orig)).mean())"
   ]
  },
  {
   "cell_type": "code",
   "execution_count": null,
   "metadata": {},
   "outputs": [],
   "source": []
  },
  {
   "cell_type": "code",
   "execution_count": null,
   "metadata": {},
   "outputs": [],
   "source": []
  }
 ],
 "metadata": {
  "kernelspec": {
   "display_name": "Python 3",
   "language": "python",
   "name": "python3"
  },
  "language_info": {
   "codemirror_mode": {
    "name": "ipython",
    "version": 3
   },
   "file_extension": ".py",
   "mimetype": "text/x-python",
   "name": "python",
   "nbconvert_exporter": "python",
   "pygments_lexer": "ipython3",
   "version": "3.6.12"
  }
 },
 "nbformat": 4,
 "nbformat_minor": 4
}
